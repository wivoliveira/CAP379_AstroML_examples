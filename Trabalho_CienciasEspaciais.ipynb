{
 "cells": [
  {
   "cell_type": "markdown",
   "metadata": {},
   "source": [
    "<img src=\"./images/header.png\">\n",
    "\n",
    "***"
   ]
  },
  {
   "cell_type": "markdown",
   "metadata": {},
   "source": [
    "# Exemplos de análise de séries temporais utilizando o módulo AstroML e dados do projeto LINEAR\n",
    "\n",
    "<br>\n",
    "\n",
    "**Discentes:**\n",
    "- Camila Pereira Sales\n",
    "- Leoni Augusto Romain da Silva\n",
    "- Willian Vieira de Oliveira\n",
    "\n",
    "**Doscente:** Dr. Reinaldo Roberto Rosa"
   ]
  },
  {
   "cell_type": "markdown",
   "metadata": {},
   "source": [
    "## Descrição\n",
    "\n",
    "Este notebook tem por objetivo utilizar o módulo AstroML para implementar e analisar três exemplos de abordagens para análise de séries temporais descritos no livro \"Statistics, Data Mining, and Machine Learning in Astronomy\" (Ivezic et al., 2014). Os dois primeiros exemplos estão relacionados à classificação de estrelas variáveis a partir de dados de curvas de luz periódicas, utilizando dois métodos de aprendizado de máquinas: GMMB e SVM. Por outro lado, o último exemplo está voltado à busca por sinais explosões (burst signals).\n",
    "\n",
    "Estes exemplos utilizam o módulo AstroML e dados provenientes do projeto *Lincoln Near Earth Asteroid Research project* (LINEAR).\n",
    "\n",
    "<img src=\"./images/Book_cover.png\">"
   ]
  },
  {
   "cell_type": "markdown",
   "metadata": {},
   "source": [
    "## AstroML\n",
    "\n",
    "Módulo Python para Aprendizado de Máquinas e Mineração de dados construído a partir dos **pacotes numpy, scipy, scikit-learn, matplotlib e astropy**. Este módulo contém uma biblioteca de rotinas estatísticas e para Aprendizado de Máquinas voltadas à análise de dados astronômicos em Python. O AstroML disponibiliza também vários conjuntos de dados astronômicos e exemplos de análises e visualizações destes dados.\n",
    "\n",
    "\n",
    "**Objetivo:** fornecer à comunidade um repositório para implementações rápidas em Python de ferramentas comuns e rotinas utilizadas para análise estatística de dados no âmbito da astronomia e astrofísica.\n",
    "\n",
    "<img src=\"./images/AstroML.gif\" width=\"35%\">\n"
   ]
  },
  {
   "cell_type": "markdown",
   "metadata": {},
   "source": [
    "## Projeto LINEAR\n",
    "\n",
    "Este projeto, existente desde 1998, foi projetado para descobrir e rastrear asteroides próximos à Terra. Seu arquivo contém milhares de imagens do céu, e sua combinação de sensibilidade e cobertura do céu tornou este projeto um recurso valioso para estudar a astronomia do espaço-tempo, incluindo estrelas variáveis. \n",
    "\n",
    "O banco de dados LINEAR apresenta observações do espaço-tempo referente a milhares de estrelas variáveis.\n",
    "\n",
    "### Funções do AstroML direcionadas ao projeto LINEAR\n",
    "\n",
    "-\t**fetch_LINEAR_sample():** busca curvas de luz para mais de 7000 estrelas variáveis; e,\n",
    "-\t**fetch_LINEAR_geneva():** contem períodos bem calibrados para a maioria desses.\n",
    "\n",
    "\n",
    "***\n"
   ]
  },
  {
   "cell_type": "markdown",
   "metadata": {},
   "source": [
    "## Exemplos - Análise de séries temporais periódicas (Cap. 10.3)\n",
    "\n",
    "### 10.3.4 Classificação de curvas de luz periódicas\n",
    "    \n",
    "<br>    \n",
    "**Dados de entrada:**\n",
    "<img src=\"./images/data.png\">\n",
    "\n",
    "### Exemplo 1:\n",
    "\n",
    "**Fig. 10.22: Classificação utilizando o método GMMBayes:**\n",
    "<img src=\"./images/Figure_10_22.png\" width=\"55%\">\n",
    "\n",
    "### Exemplo 2:\n",
    "\n",
    "**Fig. 10.23: Classificação utilizando o método SVM:**\n",
    "<img src=\"./images/Figure_10_23.png\" width=\"55%\">"
   ]
  },
  {
   "cell_type": "markdown",
   "metadata": {},
   "source": [
    "## Exemplo - Sinais localizados temporariamente (Cap. 10.4)\n",
    "\n",
    "### 10.4.2 Busca por sinais de explosão\n",
    "    \n",
    "<br>    \n",
    "**Dados de entrada:** conjunto de dados definido aleatoriamente\n",
    "\n",
    "### Exemplo 3:\n",
    "\n",
    "**Fig. 10.25: Busca por filtro de correspondência em dados de séries temporais:**\n",
    "<img src=\"./images/Figure_10_25.png\" width=\"55%\">"
   ]
  },
  {
   "cell_type": "markdown",
   "metadata": {},
   "source": [
    "***\n",
    "\n",
    "## Códigos"
   ]
  },
  {
   "cell_type": "markdown",
   "metadata": {},
   "source": [
    "**Exemplo 1:** [Classificação de curvas de luz periódicas utilizando o método GMMBayes](Exemplo_10_22.ipynb)\n",
    "<br>\n",
    "- [Repetição do exemplo 1 utilizando dados aleatórios](./Exemplo_10_22_Aleatorio.ipynb)\n",
    "<br>\n",
    "\n",
    "**Exemplo 2:** [**Classificação de curvas de luz periódicas utilizando o método SVM**](./Exemplo_10_23.ipynb)\n",
    "<br>\n",
    "- [**Repetição do exemplo 2 utilizando dados aleatórios**](./Exemplo_10_23_Aleatorio.ipynb)\n",
    "<br>\n",
    "\n",
    "**Exemplo 3:** [**Busca por sinais de explosão**](./Exemplo_10_25.ipynb)"
   ]
  }
 ],
 "metadata": {
  "kernelspec": {
   "display_name": "Python 3",
   "language": "python",
   "name": "python3"
  },
  "language_info": {
   "codemirror_mode": {
    "name": "ipython",
    "version": 3
   },
   "file_extension": ".py",
   "mimetype": "text/x-python",
   "name": "python",
   "nbconvert_exporter": "python",
   "pygments_lexer": "ipython3",
   "version": "3.7.3"
  }
 },
 "nbformat": 4,
 "nbformat_minor": 2
}
